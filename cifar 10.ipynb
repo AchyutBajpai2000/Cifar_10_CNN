{
 "cells": [
  {
   "cell_type": "code",
   "execution_count": 3,
   "metadata": {},
   "outputs": [],
   "source": [
    "import numpy as np\n",
    "import pandas as pd\n",
    "import matplotlib.pyplot as plt\n",
    "import matplotlib\n",
    "import tensorflow as tf\n",
    "from tensorflow import keras\n",
    "import warnings\n",
    "warnings.filterwarnings(\"ignore\")"
   ]
  },
  {
   "cell_type": "code",
   "execution_count": 4,
   "metadata": {},
   "outputs": [],
   "source": [
    "# Hight and width of the images\n",
    "IMAGE_SIZE = 32\n",
    "# 3 channels, Red, Green and Blue\n",
    "CHANNELS = 3\n",
    "# Number of epochs\n",
    "NUM_EPOCH = 350\n",
    "# learning rate\n",
    "LEARN_RATE = 1.0e-4"
   ]
  },
  {
   "cell_type": "code",
   "execution_count": 5,
   "metadata": {},
   "outputs": [
    {
     "name": "stderr",
     "output_type": "stream",
     "text": [
      "Using TensorFlow backend.\n"
     ]
    }
   ],
   "source": [
    "from keras.datasets import cifar10"
   ]
  },
  {
   "cell_type": "code",
   "execution_count": 6,
   "metadata": {
    "scrolled": true
   },
   "outputs": [],
   "source": [
    "(X_train , y_train) , (X_test , y_test) = cifar10.load_data()"
   ]
  },
  {
   "cell_type": "code",
   "execution_count": 7,
   "metadata": {},
   "outputs": [],
   "source": [
    "classes_name = ['airplane' , 'automobile' , 'bird' , 'cat' , 'deer' , 'dog' , 'frog' , 'horse' , 'ship' , 'truck']"
   ]
  },
  {
   "cell_type": "code",
   "execution_count": 8,
   "metadata": {},
   "outputs": [
    {
     "name": "stdout",
     "output_type": "stream",
     "text": [
      "(50000, 32, 32, 3) (50000, 1) (10000, 32, 32, 3) (10000, 1)\n"
     ]
    }
   ],
   "source": [
    "print(X_train.shape , y_train.shape , X_test.shape , y_test.shape)"
   ]
  },
  {
   "cell_type": "code",
   "execution_count": 9,
   "metadata": {},
   "outputs": [
    {
     "data": {
      "text/plain": [
       "<matplotlib.image.AxesImage at 0x2684de94348>"
      ]
     },
     "execution_count": 9,
     "metadata": {},
     "output_type": "execute_result"
    },
    {
     "data": {
      "image/png": "[encoded data removed]",
      "text/plain": [
       "<Figure size 432x288 with 1 Axes>"
      ]
     },
     "metadata": {
      "needs_background": "light"
     },
     "output_type": "display_data"
    }
   ],
   "source": [
    "plt.imshow(X_train[0])"
   ]
  },
  {
   "cell_type": "code",
   "execution_count": 10,
   "metadata": {},
   "outputs": [
    {
     "data": {
      "text/plain": [
       "255"
      ]
     },
     "execution_count": 10,
     "metadata": {},
     "output_type": "execute_result"
    }
   ],
   "source": [
    "X_train.max()"
   ]
  },
  {
   "cell_type": "code",
   "execution_count": 11,
   "metadata": {},
   "outputs": [
    {
     "data": {
      "text/plain": [
       "0"
      ]
     },
     "execution_count": 11,
     "metadata": {},
     "output_type": "execute_result"
    }
   ],
   "source": [
    "X_train.min()"
   ]
  },
  {
   "cell_type": "code",
   "execution_count": 12,
   "metadata": {},
   "outputs": [],
   "source": [
    "X_train = X_train/255\n",
    "X_test = X_test/255"
   ]
  },
  {
   "cell_type": "markdown",
   "metadata": {},
   "source": [
    "Building the CNN"
   ]
  },
  {
   "cell_type": "code",
   "execution_count": 13,
   "metadata": {},
   "outputs": [],
   "source": [
    "from keras.layers import Flatten , Dense , Dropout , Conv2D , MaxPool2D , BatchNormalization\n",
    "from keras import Sequential"
   ]
  },
  {
   "cell_type": "code",
   "execution_count": 14,
   "metadata": {},
   "outputs": [],
   "source": [
    "def My_model():\n",
    "    model = Sequential()\n",
    "\n",
    "    # Convolutional Layer\n",
    "    model.add(Conv2D(filters=32, kernel_size=(3, 3), input_shape=(32, 32, 3), activation='relu', padding='same'))\n",
    "    model.add(BatchNormalization())\n",
    "    model.add(Conv2D(filters=32, kernel_size=(3, 3), input_shape=(32, 32, 3), activation='relu', padding='same'))\n",
    "    model.add(BatchNormalization())\n",
    "    # Pooling layer\n",
    "    model.add(MaxPool2D(pool_size=(2, 2)))\n",
    "    # Dropout layers\n",
    "    model.add(Dropout(0.25))\n",
    "\n",
    "    model.add(Conv2D(filters=64, kernel_size=(3, 3), input_shape=(32, 32, 3), activation='relu', padding='same'))\n",
    "    model.add(BatchNormalization())\n",
    "    model.add(Conv2D(filters=64, kernel_size=(3, 3), input_shape=(32, 32, 3), activation='relu', padding='same'))\n",
    "    model.add(BatchNormalization())\n",
    "    model.add(MaxPool2D(pool_size=(2, 2)))\n",
    "    model.add(Dropout(0.25))\n",
    "\n",
    "    model.add(Conv2D(filters=128, kernel_size=(3, 3), input_shape=(32, 32, 3), activation='relu', padding='same'))\n",
    "    model.add(BatchNormalization())\n",
    "    model.add(Conv2D(filters=128, kernel_size=(3, 3), input_shape=(32, 32, 3), activation='relu', padding='same'))\n",
    "    model.add(BatchNormalization())\n",
    "    model.add(MaxPool2D(pool_size=(2, 2)))\n",
    "    model.add(Dropout(0.25))\n",
    "\n",
    "    model.add(Flatten())\n",
    "    # model.add(Dropout(0.2))\n",
    "    model.add(Dense(512, activation='relu'))\n",
    "    model.add(Dropout(0.25))\n",
    "    model.add(Dense(10, activation='softmax'))\n",
    "    return model\n"
   ]
  },
  {
   "cell_type": "code",
   "execution_count": 15,
   "metadata": {},
   "outputs": [
    {
     "name": "stdout",
     "output_type": "stream",
     "text": [
      "WARNING:tensorflow:From D:\\Programs\\lib\\site-packages\\keras\\backend\\tensorflow_backend.py:4070: The name tf.nn.max_pool is deprecated. Please use tf.nn.max_pool2d instead.\n",
      "\n"
     ]
    }
   ],
   "source": [
    "model = My_model()"
   ]
  },
  {
   "cell_type": "code",
   "execution_count": 16,
   "metadata": {},
   "outputs": [
    {
     "name": "stdout",
     "output_type": "stream",
     "text": [
      "Model: \"sequential_1\"\n",
      "_________________________________________________________________\n",
      "Layer (type)                 Output Shape              Param #   \n",
      "=================================================================\n",
      "conv2d_1 (Conv2D)            (None, 32, 32, 32)        896       \n",
      "_________________________________________________________________\n",
      "batch_normalization_1 (Batch (None, 32, 32, 32)        128       \n",
      "_________________________________________________________________\n",
      "conv2d_2 (Conv2D)            (None, 32, 32, 32)        9248      \n",
      "_________________________________________________________________\n",
      "batch_normalization_2 (Batch (None, 32, 32, 32)        128       \n",
      "_________________________________________________________________\n",
      "max_pooling2d_1 (MaxPooling2 (None, 16, 16, 32)        0         \n",
      "_________________________________________________________________\n",
      "dropout_1 (Dropout)          (None, 16, 16, 32)        0         \n",
      "_________________________________________________________________\n",
      "conv2d_3 (Conv2D)            (None, 16, 16, 64)        18496     \n",
      "_________________________________________________________________\n",
      "batch_normalization_3 (Batch (None, 16, 16, 64)        256       \n",
      "_________________________________________________________________\n",
      "conv2d_4 (Conv2D)            (None, 16, 16, 64)        36928     \n",
      "_________________________________________________________________\n",
      "batch_normalization_4 (Batch (None, 16, 16, 64)        256       \n",
      "_________________________________________________________________\n",
      "max_pooling2d_2 (MaxPooling2 (None, 8, 8, 64)          0         \n",
      "_________________________________________________________________\n",
      "dropout_2 (Dropout)          (None, 8, 8, 64)          0         \n",
      "_________________________________________________________________\n",
      "conv2d_5 (Conv2D)            (None, 8, 8, 128)         73856     \n",
      "_________________________________________________________________\n",
      "batch_normalization_5 (Batch (None, 8, 8, 128)         512       \n",
      "_________________________________________________________________\n",
      "conv2d_6 (Conv2D)            (None, 8, 8, 128)         147584    \n",
      "_________________________________________________________________\n",
      "batch_normalization_6 (Batch (None, 8, 8, 128)         512       \n",
      "_________________________________________________________________\n",
      "max_pooling2d_3 (MaxPooling2 (None, 4, 4, 128)         0         \n",
      "_________________________________________________________________\n",
      "dropout_3 (Dropout)          (None, 4, 4, 128)         0         \n",
      "_________________________________________________________________\n",
      "flatten_1 (Flatten)          (None, 2048)              0         \n",
      "_________________________________________________________________\n",
      "dense_1 (Dense)              (None, 512)               1049088   \n",
      "_________________________________________________________________\n",
      "dropout_4 (Dropout)          (None, 512)               0         \n",
      "_________________________________________________________________\n",
      "dense_2 (Dense)              (None, 10)                5130      \n",
      "=================================================================\n",
      "Total params: 1,343,018\n",
      "Trainable params: 1,342,122\n",
      "Non-trainable params: 896\n",
      "_________________________________________________________________\n"
     ]
    }
   ],
   "source": [
    "model.summary()"
   ]
  },
  {
   "cell_type": "code",
   "execution_count": 17,
   "metadata": {},
   "outputs": [],
   "source": [
    "model.compile(optimizer = 'adam' , loss = 'sparse_categorical_crossentropy' , metrics = ['sparse_categorical_accuracy'])"
   ]
  },
  {
   "cell_type": "code",
   "execution_count": 18,
   "metadata": {},
   "outputs": [
    {
     "name": "stdout",
     "output_type": "stream",
     "text": [
      "WARNING:tensorflow:From D:\\Programs\\lib\\site-packages\\keras\\backend\\tensorflow_backend.py:422: The name tf.global_variables is deprecated. Please use tf.compat.v1.global_variables instead.\n",
      "\n",
      "Train on 50000 samples, validate on 10000 samples\n",
      "Epoch 1/20\n",
      "50000/50000 [==============================] - 432s 9ms/step - loss: 1.4284 - sparse_categorical_accuracy: 0.4986 - val_loss: 1.2200 - val_sparse_categorical_accuracy: 0.5850\n",
      "Epoch 2/20\n",
      "50000/50000 [==============================] - 449s 9ms/step - loss: 1.0035 - sparse_categorical_accuracy: 0.6496 - val_loss: 1.1423 - val_sparse_categorical_accuracy: 0.6282\n",
      "Epoch 3/20\n",
      "50000/50000 [==============================] - 547s 11ms/step - loss: 0.8408 - sparse_categorical_accuracy: 0.7120 - val_loss: 0.7498 - val_sparse_categorical_accuracy: 0.7455\n",
      "Epoch 4/20\n",
      "50000/50000 [==============================] - 436s 9ms/step - loss: 0.7500 - sparse_categorical_accuracy: 0.7456 - val_loss: 0.7413 - val_sparse_categorical_accuracy: 0.7567\n",
      "Epoch 5/20\n",
      "50000/50000 [==============================] - 416s 8ms/step - loss: 0.6758 - sparse_categorical_accuracy: 0.7705 - val_loss: 0.7227 - val_sparse_categorical_accuracy: 0.7591\n",
      "Epoch 6/20\n",
      "50000/50000 [==============================] - 416s 8ms/step - loss: 0.6111 - sparse_categorical_accuracy: 0.7921 - val_loss: 0.7267 - val_sparse_categorical_accuracy: 0.7564\n",
      "Epoch 7/20\n",
      "50000/50000 [==============================] - 416s 8ms/step - loss: 0.5547 - sparse_categorical_accuracy: 0.8098 - val_loss: 0.6272 - val_sparse_categorical_accuracy: 0.7959\n",
      "Epoch 8/20\n",
      "50000/50000 [==============================] - 412s 8ms/step - loss: 0.5055 - sparse_categorical_accuracy: 0.8268 - val_loss: 0.5678 - val_sparse_categorical_accuracy: 0.8102\n",
      "Epoch 9/20\n",
      "50000/50000 [==============================] - 419s 8ms/step - loss: 0.4688 - sparse_categorical_accuracy: 0.8388 - val_loss: 0.5278 - val_sparse_categorical_accuracy: 0.8251\n",
      "Epoch 10/20\n",
      "50000/50000 [==============================] - 444s 9ms/step - loss: 0.4302 - sparse_categorical_accuracy: 0.8525 - val_loss: 0.5280 - val_sparse_categorical_accuracy: 0.8303\n",
      "Epoch 11/20\n",
      "50000/50000 [==============================] - 562s 11ms/step - loss: 0.4005 - sparse_categorical_accuracy: 0.8625 - val_loss: 0.5774 - val_sparse_categorical_accuracy: 0.8185\n",
      "Epoch 12/20\n",
      "50000/50000 [==============================] - 550s 11ms/step - loss: 0.3683 - sparse_categorical_accuracy: 0.8733 - val_loss: 0.5130 - val_sparse_categorical_accuracy: 0.8345\n",
      "Epoch 13/20\n",
      "50000/50000 [==============================] - 515s 10ms/step - loss: 0.3466 - sparse_categorical_accuracy: 0.8811 - val_loss: 0.5227 - val_sparse_categorical_accuracy: 0.8363\n",
      "Epoch 14/20\n",
      "50000/50000 [==============================] - 509s 10ms/step - loss: 0.3218 - sparse_categorical_accuracy: 0.8885 - val_loss: 0.5374 - val_sparse_categorical_accuracy: 0.8356\n",
      "Epoch 15/20\n",
      "50000/50000 [==============================] - 521s 10ms/step - loss: 0.2998 - sparse_categorical_accuracy: 0.8958 - val_loss: 0.5395 - val_sparse_categorical_accuracy: 0.8369\n",
      "Epoch 16/20\n",
      "50000/50000 [==============================] - 532s 11ms/step - loss: 0.2858 - sparse_categorical_accuracy: 0.8995 - val_loss: 0.6154 - val_sparse_categorical_accuracy: 0.8160\n",
      "Epoch 17/20\n",
      "50000/50000 [==============================] - 514s 10ms/step - loss: 0.2670 - sparse_categorical_accuracy: 0.9066 - val_loss: 0.5154 - val_sparse_categorical_accuracy: 0.8464\n",
      "Epoch 18/20\n",
      "50000/50000 [==============================] - 517s 10ms/step - loss: 0.2560 - sparse_categorical_accuracy: 0.9102 - val_loss: 0.5452 - val_sparse_categorical_accuracy: 0.8390\n",
      "Epoch 19/20\n",
      "50000/50000 [==============================] - 513s 10ms/step - loss: 0.2435 - sparse_categorical_accuracy: 0.9163 - val_loss: 0.5306 - val_sparse_categorical_accuracy: 0.8457\n",
      "Epoch 20/20\n",
      "50000/50000 [==============================] - 457s 9ms/step - loss: 0.2314 - sparse_categorical_accuracy: 0.9186 - val_loss: 0.5389 - val_sparse_categorical_accuracy: 0.8482\n"
     ]
    }
   ],
   "source": [
    "history = model.fit(X_train , y_train , batch_size = 20 , epochs = 20 , verbose = 1 , validation_data = (X_test , y_test))"
   ]
  },
  {
   "cell_type": "code",
   "execution_count": 19,
   "metadata": {},
   "outputs": [
    {
     "name": "stdout",
     "output_type": "stream",
     "text": [
      "dict_keys(['val_loss', 'val_sparse_categorical_accuracy', 'loss', 'sparse_categorical_accuracy'])\n"
     ]
    }
   ],
   "source": [
    "print(history.history.keys())"
   ]
  },
  {
   "cell_type": "code",
   "execution_count": 20,
   "metadata": {},
   "outputs": [
    {
     "name": "stdout",
     "output_type": "stream",
     "text": [
      "84.82000231742859\n"
     ]
    }
   ],
   "source": [
    "score = history.history\n",
    "print(score['val_sparse_categorical_accuracy'][19]*100)"
   ]
  },
  {
   "cell_type": "code",
   "execution_count": 21,
   "metadata": {},
   "outputs": [
    {
     "data": {
      "image/png": "[encoded data removed]",
      "text/plain": [
       "<Figure size 432x288 with 1 Axes>"
      ]
     },
     "metadata": {
      "needs_background": "light"
     },
     "output_type": "display_data"
    }
   ],
   "source": [
    "plt.plot(history.history['sparse_categorical_accuracy'])\n",
    "plt.plot(history.history['val_sparse_categorical_accuracy'])\n",
    "plt.title('model accuracy')\n",
    "plt.ylabel('val_sparse_categorical_accuracy')\n",
    "plt.xlabel('epoch')\n",
    "plt.legend(['train', 'test'], loc='upper left')\n",
    "plt.show()"
   ]
  },
  {
   "cell_type": "code",
   "execution_count": 22,
   "metadata": {},
   "outputs": [
    {
     "data": {
      "image/png": "[encoded data removed]",
      "text/plain": [
       "<Figure size 432x288 with 1 Axes>"
      ]
     },
     "metadata": {
      "needs_background": "light"
     },
     "output_type": "display_data"
    }
   ],
   "source": [
    "plt.plot(history.history['loss'])\n",
    "plt.plot(history.history['val_loss'])\n",
    "plt.title('model loss')\n",
    "plt.ylabel('loss')\n",
    "plt.xlabel('epoch')\n",
    "plt.legend(['train', 'test'], loc='upper left')\n",
    "plt.show()"
   ]
  },
  {
   "cell_type": "code",
   "execution_count": 23,
   "metadata": {},
   "outputs": [],
   "source": [
    "from keras.preprocessing.image import ImageDataGenerator"
   ]
  },
  {
   "cell_type": "code",
   "execution_count": 24,
   "metadata": {},
   "outputs": [],
   "source": [
    "datagen = ImageDataGenerator(\n",
    "    featurewise_center=False,\n",
    "    samplewise_center=False,\n",
    "    featurewise_std_normalization=False,\n",
    "    samplewise_std_normalization=False,\n",
    "    zca_whitening=False,\n",
    "    rotation_range=45,\n",
    "    width_shift_range=0.2,\n",
    "    height_shift_range=0.2,\n",
    "    horizontal_flip=True,\n",
    "    vertical_flip=False)\n",
    "\n",
    "datagen.fit(X_train)"
   ]
  },
  {
   "cell_type": "code",
   "execution_count": 25,
   "metadata": {},
   "outputs": [],
   "source": [
    "augmented_model = My_model()"
   ]
  },
  {
   "cell_type": "code",
   "execution_count": 26,
   "metadata": {},
   "outputs": [],
   "source": [
    "augmented_model.compile(optimizer = 'adam' , loss = 'sparse_categorical_crossentropy' , metrics = ['sparse_categorical_accuracy'])"
   ]
  },
  {
   "cell_type": "code",
   "execution_count": 30,
   "metadata": {
    "scrolled": false
   },
   "outputs": [
    {
     "name": "stdout",
     "output_type": "stream",
     "text": [
      "Epoch 1/20\n",
      "1563/1563 [==============================] - 396s 253ms/step - loss: 1.8018 - sparse_categorical_accuracy: 0.3553 - val_loss: 1.6382 - val_sparse_categorical_accuracy: 0.4060\n",
      "Epoch 2/20\n",
      "1563/1563 [==============================] - 388s 248ms/step - loss: 1.4811 - sparse_categorical_accuracy: 0.4679 - val_loss: 1.6678 - val_sparse_categorical_accuracy: 0.4498\n",
      "Epoch 3/20\n",
      "1563/1563 [==============================] - 388s 248ms/step - loss: 1.3455 - sparse_categorical_accuracy: 0.5192 - val_loss: 1.3099 - val_sparse_categorical_accuracy: 0.5504\n",
      "Epoch 4/20\n",
      "1563/1563 [==============================] - 386s 247ms/step - loss: 1.2450 - sparse_categorical_accuracy: 0.5600 - val_loss: 1.2400 - val_sparse_categorical_accuracy: 0.5674\n",
      "Epoch 5/20\n",
      "1563/1563 [==============================] - 388s 248ms/step - loss: 1.1678 - sparse_categorical_accuracy: 0.5916 - val_loss: 1.1490 - val_sparse_categorical_accuracy: 0.6124\n",
      "Epoch 6/20\n",
      "1563/1563 [==============================] - 385s 247ms/step - loss: 1.1178 - sparse_categorical_accuracy: 0.6106 - val_loss: 0.9576 - val_sparse_categorical_accuracy: 0.6704\n",
      "Epoch 7/20\n",
      "1563/1563 [==============================] - 383s 245ms/step - loss: 1.0625 - sparse_categorical_accuracy: 0.6305 - val_loss: 1.0698 - val_sparse_categorical_accuracy: 0.6397\n",
      "Epoch 8/20\n",
      "1563/1563 [==============================] - 389s 249ms/step - loss: 1.0170 - sparse_categorical_accuracy: 0.6470 - val_loss: 0.9215 - val_sparse_categorical_accuracy: 0.6849\n",
      "Epoch 9/20\n",
      "1563/1563 [==============================] - 387s 248ms/step - loss: 0.9770 - sparse_categorical_accuracy: 0.6623 - val_loss: 1.0564 - val_sparse_categorical_accuracy: 0.6517\n",
      "Epoch 10/20\n",
      "1563/1563 [==============================] - 387s 248ms/step - loss: 0.9491 - sparse_categorical_accuracy: 0.6733 - val_loss: 0.9631 - val_sparse_categorical_accuracy: 0.6793\n",
      "Epoch 11/20\n",
      "1563/1563 [==============================] - 386s 247ms/step - loss: 0.9154 - sparse_categorical_accuracy: 0.6842 - val_loss: 0.8306 - val_sparse_categorical_accuracy: 0.7234\n",
      "Epoch 12/20\n",
      "1563/1563 [==============================] - 384s 245ms/step - loss: 0.8901 - sparse_categorical_accuracy: 0.6936 - val_loss: 0.8247 - val_sparse_categorical_accuracy: 0.7245\n",
      "Epoch 13/20\n",
      "1563/1563 [==============================] - 384s 246ms/step - loss: 0.8704 - sparse_categorical_accuracy: 0.6978 - val_loss: 0.7916 - val_sparse_categorical_accuracy: 0.7314\n",
      "Epoch 14/20\n",
      "1563/1563 [==============================] - 385s 246ms/step - loss: 0.8485 - sparse_categorical_accuracy: 0.7063 - val_loss: 0.7592 - val_sparse_categorical_accuracy: 0.7442\n",
      "Epoch 15/20\n",
      "1563/1563 [==============================] - 384s 246ms/step - loss: 0.8261 - sparse_categorical_accuracy: 0.7140 - val_loss: 0.8698 - val_sparse_categorical_accuracy: 0.7283\n",
      "Epoch 16/20\n",
      "1563/1563 [==============================] - 384s 245ms/step - loss: 0.8155 - sparse_categorical_accuracy: 0.7185 - val_loss: 0.6718 - val_sparse_categorical_accuracy: 0.7706\n",
      "Epoch 17/20\n",
      "1563/1563 [==============================] - 384s 246ms/step - loss: 0.7998 - sparse_categorical_accuracy: 0.7269 - val_loss: 0.7078 - val_sparse_categorical_accuracy: 0.7621\n",
      "Epoch 18/20\n",
      "1563/1563 [==============================] - 392s 251ms/step - loss: 0.7868 - sparse_categorical_accuracy: 0.7271 - val_loss: 0.6549 - val_sparse_categorical_accuracy: 0.7784\n",
      "Epoch 19/20\n",
      "1563/1563 [==============================] - 384s 246ms/step - loss: 0.7764 - sparse_categorical_accuracy: 0.7326 - val_loss: 0.6722 - val_sparse_categorical_accuracy: 0.7736\n",
      "Epoch 20/20\n",
      "1563/1563 [==============================] - 382s 245ms/step - loss: 0.7655 - sparse_categorical_accuracy: 0.7370 - val_loss: 0.7683 - val_sparse_categorical_accuracy: 0.7443\n"
     ]
    }
   ],
   "source": [
    "history_aug = augmented_model.fit_generator(datagen.flow(X_train, y_train, batch_size = 32),\n",
    "                    epochs = 20,validation_data= (X_test, y_test),verbose=1)"
   ]
  },
  {
   "cell_type": "code",
   "execution_count": 34,
   "metadata": {},
   "outputs": [
    {
     "data": {
      "image/png": "[encoded data removed]",
      "text/plain": [
       "<Figure size 432x288 with 1 Axes>"
      ]
     },
     "metadata": {
      "needs_background": "light"
     },
     "output_type": "display_data"
    }
   ],
   "source": [
    "plt.plot(history_aug.history['sparse_categorical_accuracy'])\n",
    "plt.plot(history_aug.history['val_sparse_categorical_accuracy'])\n",
    "plt.title('model accuracy')\n",
    "plt.ylabel('val_sparse_categorical_accuracy')\n",
    "plt.xlabel('epoch')\n",
    "plt.legend(['train', 'test'], loc='upper left')\n",
    "plt.show()"
   ]
  },
  {
   "cell_type": "code",
   "execution_count": 35,
   "metadata": {},
   "outputs": [
    {
     "data": {
      "image/png": "[encoded data removed]",
      "text/plain": [
       "<Figure size 432x288 with 1 Axes>"
      ]
     },
     "metadata": {
      "needs_background": "light"
     },
     "output_type": "display_data"
    }
   ],
   "source": [
    "plt.plot(history_aug.history['loss'])\n",
    "plt.plot(history_aug.history['val_loss'])\n",
    "plt.title('model loss')\n",
    "plt.ylabel('loss')\n",
    "plt.xlabel('epoch')\n",
    "plt.legend(['train', 'test'], loc='upper left')\n",
    "plt.show()"
   ]
  },
  {
   "cell_type": "code",
   "execution_count": 36,
   "metadata": {},
   "outputs": [
    {
     "name": "stdout",
     "output_type": "stream",
     "text": [
      "74.43000078201294\n"
     ]
    }
   ],
   "source": [
    "aug_score = history_aug.history\n",
    "print(aug_score['val_sparse_categorical_accuracy'][19]*100)"
   ]
  },
  {
   "cell_type": "code",
   "execution_count": null,
   "metadata": {},
   "outputs": [],
   "source": []
  }
 ],
 "metadata": {
  "kernelspec": {
   "display_name": "Python 3",
   "language": "python",
   "name": "python3"
  },
  "language_info": {
   "codemirror_mode": {
    "name": "ipython",
    "version": 3
   },
   "file_extension": ".py",
   "mimetype": "text/x-python",
   "name": "python",
   "nbconvert_exporter": "python",
   "pygments_lexer": "ipython3",
   "version": "3.7.6"
  }
 },
 "nbformat": 4,
 "nbformat_minor": 4
}
